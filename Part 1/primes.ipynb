{
 "cells": [
  {
   "cell_type": "markdown",
   "id": "4a93682d-516a-4665-826b-769da7c6d415",
   "metadata": {},
   "source": [
    "## Problem Statement\n",
    "\n",
    "Euler discovered the remarkable quadratic formula:\n",
    "\n",
    "$$\n",
    "n^2 + n + 41\n",
    "$$\n",
    "\n",
    "It turns out that the formula will produce 40 primes for the consecutive integer values $0 \\leq n \\leq 39$. However, when $n = 40$, $40^2 + 40 + 41 = 40(40 + 1) + 41$ is divisible by $41$, and certainly when $n = 41$, $41^2 + 41 + 41$ is clearly divisible by $41$.\n",
    "\n",
    "The incredible formula\n",
    "\n",
    "$$\n",
    "n^2 - 79n + 1601\n",
    "$$\n",
    "\n",
    "was discovered, which produces 80 primes for the consecutive values $0 \\leq n \\leq 79$. The product of the coefficients, $-79$ and $1601$, is $-126479$.\n",
    "\n",
    "Considering quadratics of the form:\n",
    "\n",
    "$$\n",
    "n^2 + an + b\n",
    "$$\n",
    "\n",
    "where $|a| < 1000$ and $|b| \\leq 1000$.\n",
    "\n",
    "Here, $|n|$ represents the modulus/absolute value of $n$, e.g., $|11| = 11$ and $|-4| = 4$.\n",
    "\n",
    "Find the product of the coefficients $a$ and $b$ for the quadratic expression that produces the maximum number of primes for consecutive values of $n$, starting with $n = 0$.\n",
    "\n",
    "---\n",
    "\n",
    "**Instructions:**\n",
    "\n",
    "Please code up a brute-force solution to this problem (it will not finish in a reasonable time). If you pass the exam stage, prepare to explain possible solutions to improve your current approach in relation to runtime during the panel interview."
   ]
  },
  {
   "cell_type": "markdown",
   "id": "ad48a6a3-33f5-40aa-b3ff-2e1b4c9204e6",
   "metadata": {},
   "source": [
    "I got some help understanding the problem c/o: https://www.youtube.com/watch?v=GpMuyrM57jA \\\n",
    "Problem is also hosted at https://projecteuler.net/problem=27"
   ]
  },
  {
   "cell_type": "code",
   "execution_count": 1,
   "id": "de63afff-cd1d-4c92-b36b-934579f3fdc8",
   "metadata": {
    "execution": {
     "iopub.execute_input": "2024-11-07T04:50:52.330480Z",
     "iopub.status.busy": "2024-11-07T04:50:52.330260Z",
     "iopub.status.idle": "2024-11-07T04:50:53.707025Z",
     "shell.execute_reply": "2024-11-07T04:50:53.706512Z",
     "shell.execute_reply.started": "2024-11-07T04:50:52.330456Z"
    }
   },
   "outputs": [
    {
     "name": "stdout",
     "output_type": "stream",
     "text": [
      "Maximum consecutive primes: 71\n",
      "Best coefficients: a = -61, b = 971\n",
      "Product of coefficients: -59231\n"
     ]
    }
   ],
   "source": [
    "import math\n",
    "\n",
    "def is_prime(n):\n",
    "    \"\"\"Check if a number is prime.\"\"\"\n",
    "    if n <= 1:\n",
    "        return False\n",
    "    if n == 2 or n == 3:\n",
    "        return True\n",
    "    if n % 2 == 0 or n % 3 == 0:\n",
    "        return False\n",
    "    i = 5\n",
    "    while i * i <= n:\n",
    "        if n % i == 0 or n % (i + 2) == 0:\n",
    "            return False\n",
    "        i += 6\n",
    "    return True\n",
    "\n",
    "def consecutive_primes(a, b):\n",
    "    \"\"\"Count consecutive primes for the formula n^2 + an + b, starting with n = 0.\"\"\"\n",
    "    n = 0\n",
    "    while True:\n",
    "        formula_result = n**2 + a * n + b\n",
    "        if not is_prime(formula_result):\n",
    "            break\n",
    "        n += 1\n",
    "    return n\n",
    "\n",
    "max_primes = 0\n",
    "best_a = 0\n",
    "best_b = 0\n",
    "\n",
    "# Loop over all possible values of a and b within the given constraints\n",
    "for a in range(-999, 1000):\n",
    "    for b in range(-1000, 1001):\n",
    "        prime_count = consecutive_primes(a, b)\n",
    "        if prime_count > max_primes:\n",
    "            max_primes = prime_count\n",
    "            best_a = a\n",
    "            best_b = b\n",
    "\n",
    "# Calculate the product of the coefficients\n",
    "product_of_coefficients = best_a * best_b\n",
    "\n",
    "print(f\"Maximum consecutive primes: {max_primes}\")\n",
    "print(f\"Best coefficients: a = {best_a}, b = {best_b}\")\n",
    "print(f\"Product of coefficients: {product_of_coefficients}\")"
   ]
  },
  {
   "cell_type": "code",
   "execution_count": null,
   "id": "ea3b66d3-45e5-414f-b20b-23b9fae92b47",
   "metadata": {},
   "outputs": [],
   "source": []
  }
 ],
 "metadata": {
  "kernelspec": {
   "display_name": "Python 3 (ipykernel)",
   "language": "python",
   "name": "python3"
  },
  "language_info": {
   "codemirror_mode": {
    "name": "ipython",
    "version": 3
   },
   "file_extension": ".py",
   "mimetype": "text/x-python",
   "name": "python",
   "nbconvert_exporter": "python",
   "pygments_lexer": "ipython3",
   "version": "3.11.1"
  }
 },
 "nbformat": 4,
 "nbformat_minor": 5
}
